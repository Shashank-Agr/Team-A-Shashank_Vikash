{
 "cells": [
  {
   "cell_type": "markdown",
   "id": "7519cc58",
   "metadata": {},
   "source": [
    "#### 1. Customers​\n",
    "\n",
    "a) Plot Customers count by Month and Year​\n",
    "\n",
    "b) How is the distribution of customers vs countries?​\n",
    "\n",
    "c) How many one-time buyers  (purchases only once) are there? And how are they distributed by country?​\n",
    "\n",
    "#### 2. Revenue​\n",
    "\n",
    "a) What is the Average revenue per quarter for the year 2010?  Plot quarterly revenues for 2010 and 2011.​\n",
    "\n",
    "b) What are highest sale seasons (months/weeks) in UK?​\n",
    "\n",
    "c) What are top 5 and least 5 countries by Revenue/ sales quantity? ​\n",
    "\n",
    "#### 3. Products:​\n",
    "\n",
    "a) What are top 10 products that were sold and what is a their revenue proportion?​\n",
    "\n",
    "b) What is the best time to sell top 3 products (from the above list) in UK?​\n",
    "\n",
    "c) Plot top most returned products across countries? ​"
   ]
  },
  {
   "cell_type": "code",
   "execution_count": 1,
   "id": "531a91bd",
   "metadata": {},
   "outputs": [],
   "source": [
    "# importing libraries\n",
    "\n",
    "import os\n",
    "import json \n",
    "import requests\n",
    "import pandas as pd\n",
    "import numpy as np\n",
    "import seaborn as sns\n",
    "import matplotlib.pyplot as plt\n",
    "import datetime\n",
    "%matplotlib inline"
   ]
  },
  {
   "cell_type": "code",
   "execution_count": 2,
   "id": "b5b42300",
   "metadata": {},
   "outputs": [],
   "source": [
    "# create pandas dataframe\n",
    "\n",
    "retail_df = pd.read_excel('Online_Retail.xlsx')"
   ]
  },
  {
   "cell_type": "code",
   "execution_count": 3,
   "id": "9e7f9d01",
   "metadata": {},
   "outputs": [
    {
     "data": {
      "text/html": [
       "<div>\n",
       "<style scoped>\n",
       "    .dataframe tbody tr th:only-of-type {\n",
       "        vertical-align: middle;\n",
       "    }\n",
       "\n",
       "    .dataframe tbody tr th {\n",
       "        vertical-align: top;\n",
       "    }\n",
       "\n",
       "    .dataframe thead th {\n",
       "        text-align: right;\n",
       "    }\n",
       "</style>\n",
       "<table border=\"1\" class=\"dataframe\">\n",
       "  <thead>\n",
       "    <tr style=\"text-align: right;\">\n",
       "      <th></th>\n",
       "      <th>InvoiceNo</th>\n",
       "      <th>StockCode</th>\n",
       "      <th>Description</th>\n",
       "      <th>Quantity</th>\n",
       "      <th>InvoiceDate</th>\n",
       "      <th>UnitPrice</th>\n",
       "      <th>CustomerID</th>\n",
       "      <th>Country</th>\n",
       "    </tr>\n",
       "  </thead>\n",
       "  <tbody>\n",
       "    <tr>\n",
       "      <th>0</th>\n",
       "      <td>536365</td>\n",
       "      <td>85123A</td>\n",
       "      <td>WHITE HANGING HEART T-LIGHT HOLDER</td>\n",
       "      <td>6</td>\n",
       "      <td>2010-12-01 08:26:00</td>\n",
       "      <td>2.55</td>\n",
       "      <td>17850.0</td>\n",
       "      <td>United Kingdom</td>\n",
       "    </tr>\n",
       "    <tr>\n",
       "      <th>1</th>\n",
       "      <td>536365</td>\n",
       "      <td>71053</td>\n",
       "      <td>WHITE METAL LANTERN</td>\n",
       "      <td>6</td>\n",
       "      <td>2010-12-01 08:26:00</td>\n",
       "      <td>3.39</td>\n",
       "      <td>17850.0</td>\n",
       "      <td>United Kingdom</td>\n",
       "    </tr>\n",
       "    <tr>\n",
       "      <th>2</th>\n",
       "      <td>536365</td>\n",
       "      <td>84406B</td>\n",
       "      <td>CREAM CUPID HEARTS COAT HANGER</td>\n",
       "      <td>8</td>\n",
       "      <td>2010-12-01 08:26:00</td>\n",
       "      <td>2.75</td>\n",
       "      <td>17850.0</td>\n",
       "      <td>United Kingdom</td>\n",
       "    </tr>\n",
       "    <tr>\n",
       "      <th>3</th>\n",
       "      <td>536365</td>\n",
       "      <td>84029G</td>\n",
       "      <td>KNITTED UNION FLAG HOT WATER BOTTLE</td>\n",
       "      <td>6</td>\n",
       "      <td>2010-12-01 08:26:00</td>\n",
       "      <td>3.39</td>\n",
       "      <td>17850.0</td>\n",
       "      <td>United Kingdom</td>\n",
       "    </tr>\n",
       "    <tr>\n",
       "      <th>4</th>\n",
       "      <td>536365</td>\n",
       "      <td>84029E</td>\n",
       "      <td>RED WOOLLY HOTTIE WHITE HEART.</td>\n",
       "      <td>6</td>\n",
       "      <td>2010-12-01 08:26:00</td>\n",
       "      <td>3.39</td>\n",
       "      <td>17850.0</td>\n",
       "      <td>United Kingdom</td>\n",
       "    </tr>\n",
       "    <tr>\n",
       "      <th>5</th>\n",
       "      <td>536365</td>\n",
       "      <td>22752</td>\n",
       "      <td>SET 7 BABUSHKA NESTING BOXES</td>\n",
       "      <td>2</td>\n",
       "      <td>2010-12-01 08:26:00</td>\n",
       "      <td>7.65</td>\n",
       "      <td>17850.0</td>\n",
       "      <td>United Kingdom</td>\n",
       "    </tr>\n",
       "    <tr>\n",
       "      <th>6</th>\n",
       "      <td>536365</td>\n",
       "      <td>21730</td>\n",
       "      <td>GLASS STAR FROSTED T-LIGHT HOLDER</td>\n",
       "      <td>6</td>\n",
       "      <td>2010-12-01 08:26:00</td>\n",
       "      <td>4.25</td>\n",
       "      <td>17850.0</td>\n",
       "      <td>United Kingdom</td>\n",
       "    </tr>\n",
       "    <tr>\n",
       "      <th>7</th>\n",
       "      <td>536366</td>\n",
       "      <td>22633</td>\n",
       "      <td>HAND WARMER UNION JACK</td>\n",
       "      <td>6</td>\n",
       "      <td>2010-12-01 08:28:00</td>\n",
       "      <td>1.85</td>\n",
       "      <td>17850.0</td>\n",
       "      <td>United Kingdom</td>\n",
       "    </tr>\n",
       "    <tr>\n",
       "      <th>8</th>\n",
       "      <td>536366</td>\n",
       "      <td>22632</td>\n",
       "      <td>HAND WARMER RED POLKA DOT</td>\n",
       "      <td>6</td>\n",
       "      <td>2010-12-01 08:28:00</td>\n",
       "      <td>1.85</td>\n",
       "      <td>17850.0</td>\n",
       "      <td>United Kingdom</td>\n",
       "    </tr>\n",
       "    <tr>\n",
       "      <th>9</th>\n",
       "      <td>536367</td>\n",
       "      <td>84879</td>\n",
       "      <td>ASSORTED COLOUR BIRD ORNAMENT</td>\n",
       "      <td>32</td>\n",
       "      <td>2010-12-01 08:34:00</td>\n",
       "      <td>1.69</td>\n",
       "      <td>13047.0</td>\n",
       "      <td>United Kingdom</td>\n",
       "    </tr>\n",
       "  </tbody>\n",
       "</table>\n",
       "</div>"
      ],
      "text/plain": [
       "  InvoiceNo StockCode                          Description  Quantity  \\\n",
       "0    536365    85123A   WHITE HANGING HEART T-LIGHT HOLDER         6   \n",
       "1    536365     71053                  WHITE METAL LANTERN         6   \n",
       "2    536365    84406B       CREAM CUPID HEARTS COAT HANGER         8   \n",
       "3    536365    84029G  KNITTED UNION FLAG HOT WATER BOTTLE         6   \n",
       "4    536365    84029E       RED WOOLLY HOTTIE WHITE HEART.         6   \n",
       "5    536365     22752         SET 7 BABUSHKA NESTING BOXES         2   \n",
       "6    536365     21730    GLASS STAR FROSTED T-LIGHT HOLDER         6   \n",
       "7    536366     22633               HAND WARMER UNION JACK         6   \n",
       "8    536366     22632            HAND WARMER RED POLKA DOT         6   \n",
       "9    536367     84879        ASSORTED COLOUR BIRD ORNAMENT        32   \n",
       "\n",
       "          InvoiceDate  UnitPrice  CustomerID         Country  \n",
       "0 2010-12-01 08:26:00       2.55     17850.0  United Kingdom  \n",
       "1 2010-12-01 08:26:00       3.39     17850.0  United Kingdom  \n",
       "2 2010-12-01 08:26:00       2.75     17850.0  United Kingdom  \n",
       "3 2010-12-01 08:26:00       3.39     17850.0  United Kingdom  \n",
       "4 2010-12-01 08:26:00       3.39     17850.0  United Kingdom  \n",
       "5 2010-12-01 08:26:00       7.65     17850.0  United Kingdom  \n",
       "6 2010-12-01 08:26:00       4.25     17850.0  United Kingdom  \n",
       "7 2010-12-01 08:28:00       1.85     17850.0  United Kingdom  \n",
       "8 2010-12-01 08:28:00       1.85     17850.0  United Kingdom  \n",
       "9 2010-12-01 08:34:00       1.69     13047.0  United Kingdom  "
      ]
     },
     "execution_count": 3,
     "metadata": {},
     "output_type": "execute_result"
    }
   ],
   "source": [
    "# visualize 10 rows\n",
    "\n",
    "retail_df.head(10)"
   ]
  },
  {
   "cell_type": "code",
   "execution_count": 4,
   "id": "b552fc1f",
   "metadata": {},
   "outputs": [
    {
     "name": "stdout",
     "output_type": "stream",
     "text": [
      "<class 'pandas.core.frame.DataFrame'>\n",
      "RangeIndex: 541909 entries, 0 to 541908\n",
      "Data columns (total 8 columns):\n",
      " #   Column       Non-Null Count   Dtype         \n",
      "---  ------       --------------   -----         \n",
      " 0   InvoiceNo    541909 non-null  object        \n",
      " 1   StockCode    541909 non-null  object        \n",
      " 2   Description  540455 non-null  object        \n",
      " 3   Quantity     541909 non-null  int64         \n",
      " 4   InvoiceDate  541909 non-null  datetime64[ns]\n",
      " 5   UnitPrice    541909 non-null  float64       \n",
      " 6   CustomerID   406829 non-null  float64       \n",
      " 7   Country      541909 non-null  object        \n",
      "dtypes: datetime64[ns](1), float64(2), int64(1), object(4)\n",
      "memory usage: 33.1+ MB\n"
     ]
    }
   ],
   "source": [
    "# detailed information of the dataset \n",
    "\n",
    "retail_df.info()"
   ]
  },
  {
   "cell_type": "code",
   "execution_count": 5,
   "id": "bb84789d",
   "metadata": {},
   "outputs": [
    {
     "data": {
      "text/plain": [
       "(541909, 8)"
      ]
     },
     "execution_count": 5,
     "metadata": {},
     "output_type": "execute_result"
    }
   ],
   "source": [
    "retail_df.shape"
   ]
  },
  {
   "cell_type": "code",
   "execution_count": 6,
   "id": "c95a6d97",
   "metadata": {},
   "outputs": [
    {
     "data": {
      "text/plain": [
       "InvoiceNo           0\n",
       "StockCode           0\n",
       "Description      1454\n",
       "Quantity            0\n",
       "InvoiceDate         0\n",
       "UnitPrice           0\n",
       "CustomerID     135080\n",
       "Country             0\n",
       "dtype: int64"
      ]
     },
     "execution_count": 6,
     "metadata": {},
     "output_type": "execute_result"
    }
   ],
   "source": [
    "#missing data\n",
    "retail_df.isnull().sum()"
   ]
  },
  {
   "cell_type": "code",
   "execution_count": 7,
   "id": "88dedfc6",
   "metadata": {},
   "outputs": [],
   "source": [
    "# Added year and month column\n",
    "\n",
    "InvoiceDate = retail_df['InvoiceDate']\n",
    "\n",
    "retail_df['year'] = retail_df['InvoiceDate'].dt.year\n",
    "retail_df['month'] = retail_df['InvoiceDate'].dt.month\n"
   ]
  },
  {
   "cell_type": "code",
   "execution_count": 8,
   "id": "a01b37a5",
   "metadata": {},
   "outputs": [
    {
     "data": {
      "text/html": [
       "<div>\n",
       "<style scoped>\n",
       "    .dataframe tbody tr th:only-of-type {\n",
       "        vertical-align: middle;\n",
       "    }\n",
       "\n",
       "    .dataframe tbody tr th {\n",
       "        vertical-align: top;\n",
       "    }\n",
       "\n",
       "    .dataframe thead th {\n",
       "        text-align: right;\n",
       "    }\n",
       "</style>\n",
       "<table border=\"1\" class=\"dataframe\">\n",
       "  <thead>\n",
       "    <tr style=\"text-align: right;\">\n",
       "      <th></th>\n",
       "      <th>InvoiceNo</th>\n",
       "      <th>StockCode</th>\n",
       "      <th>Description</th>\n",
       "      <th>Quantity</th>\n",
       "      <th>InvoiceDate</th>\n",
       "      <th>UnitPrice</th>\n",
       "      <th>CustomerID</th>\n",
       "      <th>Country</th>\n",
       "      <th>year</th>\n",
       "      <th>month</th>\n",
       "    </tr>\n",
       "  </thead>\n",
       "  <tbody>\n",
       "    <tr>\n",
       "      <th>0</th>\n",
       "      <td>536365</td>\n",
       "      <td>85123A</td>\n",
       "      <td>WHITE HANGING HEART T-LIGHT HOLDER</td>\n",
       "      <td>6</td>\n",
       "      <td>2010-12-01 08:26:00</td>\n",
       "      <td>2.55</td>\n",
       "      <td>17850.0</td>\n",
       "      <td>United Kingdom</td>\n",
       "      <td>2010</td>\n",
       "      <td>12</td>\n",
       "    </tr>\n",
       "    <tr>\n",
       "      <th>1</th>\n",
       "      <td>536365</td>\n",
       "      <td>71053</td>\n",
       "      <td>WHITE METAL LANTERN</td>\n",
       "      <td>6</td>\n",
       "      <td>2010-12-01 08:26:00</td>\n",
       "      <td>3.39</td>\n",
       "      <td>17850.0</td>\n",
       "      <td>United Kingdom</td>\n",
       "      <td>2010</td>\n",
       "      <td>12</td>\n",
       "    </tr>\n",
       "    <tr>\n",
       "      <th>2</th>\n",
       "      <td>536365</td>\n",
       "      <td>84406B</td>\n",
       "      <td>CREAM CUPID HEARTS COAT HANGER</td>\n",
       "      <td>8</td>\n",
       "      <td>2010-12-01 08:26:00</td>\n",
       "      <td>2.75</td>\n",
       "      <td>17850.0</td>\n",
       "      <td>United Kingdom</td>\n",
       "      <td>2010</td>\n",
       "      <td>12</td>\n",
       "    </tr>\n",
       "    <tr>\n",
       "      <th>3</th>\n",
       "      <td>536365</td>\n",
       "      <td>84029G</td>\n",
       "      <td>KNITTED UNION FLAG HOT WATER BOTTLE</td>\n",
       "      <td>6</td>\n",
       "      <td>2010-12-01 08:26:00</td>\n",
       "      <td>3.39</td>\n",
       "      <td>17850.0</td>\n",
       "      <td>United Kingdom</td>\n",
       "      <td>2010</td>\n",
       "      <td>12</td>\n",
       "    </tr>\n",
       "    <tr>\n",
       "      <th>4</th>\n",
       "      <td>536365</td>\n",
       "      <td>84029E</td>\n",
       "      <td>RED WOOLLY HOTTIE WHITE HEART.</td>\n",
       "      <td>6</td>\n",
       "      <td>2010-12-01 08:26:00</td>\n",
       "      <td>3.39</td>\n",
       "      <td>17850.0</td>\n",
       "      <td>United Kingdom</td>\n",
       "      <td>2010</td>\n",
       "      <td>12</td>\n",
       "    </tr>\n",
       "  </tbody>\n",
       "</table>\n",
       "</div>"
      ],
      "text/plain": [
       "  InvoiceNo StockCode                          Description  Quantity  \\\n",
       "0    536365    85123A   WHITE HANGING HEART T-LIGHT HOLDER         6   \n",
       "1    536365     71053                  WHITE METAL LANTERN         6   \n",
       "2    536365    84406B       CREAM CUPID HEARTS COAT HANGER         8   \n",
       "3    536365    84029G  KNITTED UNION FLAG HOT WATER BOTTLE         6   \n",
       "4    536365    84029E       RED WOOLLY HOTTIE WHITE HEART.         6   \n",
       "\n",
       "          InvoiceDate  UnitPrice  CustomerID         Country  year  month  \n",
       "0 2010-12-01 08:26:00       2.55     17850.0  United Kingdom  2010     12  \n",
       "1 2010-12-01 08:26:00       3.39     17850.0  United Kingdom  2010     12  \n",
       "2 2010-12-01 08:26:00       2.75     17850.0  United Kingdom  2010     12  \n",
       "3 2010-12-01 08:26:00       3.39     17850.0  United Kingdom  2010     12  \n",
       "4 2010-12-01 08:26:00       3.39     17850.0  United Kingdom  2010     12  "
      ]
     },
     "execution_count": 8,
     "metadata": {},
     "output_type": "execute_result"
    }
   ],
   "source": [
    "retail_df.head()"
   ]
  },
  {
   "cell_type": "markdown",
   "id": "9306051b",
   "metadata": {},
   "source": [
    "##### 1.(a) Plot Customers count by Month and Year​"
   ]
  },
  {
   "cell_type": "code",
   "execution_count": 9,
   "id": "4443facd",
   "metadata": {},
   "outputs": [
    {
     "data": {
      "text/plain": [
       "<AxesSubplot:xlabel='month', ylabel='count'>"
      ]
     },
     "execution_count": 9,
     "metadata": {},
     "output_type": "execute_result"
    },
    {
     "data": {
      "image/png": "[encoded data removed]",
      "text/plain": [
       "<Figure size 432x288 with 1 Axes>"
      ]
     },
     "metadata": {
      "needs_background": "light"
     },
     "output_type": "display_data"
    }
   ],
   "source": [
    "#plot customer count month-wise\n",
    "\n",
    "#plt.title('Customer Count - Month Wise')\n",
    "df_cc =  retail_df[['InvoiceNo','Country','month','year']].groupby('InvoiceNo').first()\n",
    "sns.countplot(x = 'month',  data = df_cc)"
   ]
  },
  {
   "cell_type": "code",
   "execution_count": 10,
   "id": "37432ae5",
   "metadata": {},
   "outputs": [
    {
     "data": {
      "text/plain": [
       "<AxesSubplot:title={'center':'Customer count : Year Wise'}, xlabel='year', ylabel='count'>"
      ]
     },
     "execution_count": 10,
     "metadata": {},
     "output_type": "execute_result"
    },
    {
     "data": {
      "image/png": "[encoded data removed]",
      "text/plain": [
       "<Figure size 432x288 with 1 Axes>"
      ]
     },
     "metadata": {
      "needs_background": "light"
     },
     "output_type": "display_data"
    }
   ],
   "source": [
    "#plot customer count year-wise\n",
    "\n",
    "plt.title('Customer count : Year Wise')\n",
    "sns.countplot(x = 'year',  data = df_cc)"
   ]
  },
  {
   "cell_type": "markdown",
   "id": "f2d65a16",
   "metadata": {},
   "source": [
    "##### 1.(b) How is the distribution of customers vs countries?​"
   ]
  },
  {
   "cell_type": "code",
   "execution_count": 11,
   "id": "b059466e",
   "metadata": {},
   "outputs": [
    {
     "name": "stdout",
     "output_type": "stream",
     "text": [
      "['United Kingdom' 'France' 'Australia' 'Netherlands' 'Germany' 'Norway'\n",
      " 'EIRE' 'Switzerland' 'Spain' 'Poland' 'Portugal' 'Italy' 'Belgium'\n",
      " 'Lithuania' 'Japan' 'Iceland' 'Channel Islands' 'Denmark' 'Cyprus'\n",
      " 'Sweden' 'Austria' 'Israel' 'Finland' 'Bahrain' 'Greece' 'Hong Kong'\n",
      " 'Singapore' 'Lebanon' 'United Arab Emirates' 'Saudi Arabia'\n",
      " 'Czech Republic' 'Canada' 'Unspecified' 'Brazil' 'USA'\n",
      " 'European Community' 'Malta' 'RSA']\n",
      "Total countries: 38\n"
     ]
    }
   ],
   "source": [
    "print(retail_df['Country'].unique())\n",
    "print(\"Total countries:\",len( retail_df['Country'].unique()))"
   ]
  },
  {
   "cell_type": "code",
   "execution_count": 12,
   "id": "f36be6f6",
   "metadata": {},
   "outputs": [
    {
     "data": {
      "text/plain": [
       "<AxesSubplot:title={'center':'Customer Count - Country Wise'}, xlabel='Country', ylabel='count'>"
      ]
     },
     "execution_count": 12,
     "metadata": {},
     "output_type": "execute_result"
    },
    {
     "data": {
      "image/png": "[encoded data removed]",
      "text/plain": [
       "<Figure size 2500x500 with 1 Axes>"
      ]
     },
     "metadata": {
      "needs_background": "light"
     },
     "output_type": "display_data"
    }
   ],
   "source": [
    "#plot customer vs countries\n",
    "\n",
    "plt.figure(figsize=(25,5),dpi=100)\n",
    "plt.xticks(rotation=45)\n",
    "plt.title('Customer Count - Country Wise')\n",
    "sns.countplot(x='Country',data=df_cc)"
   ]
  },
  {
   "cell_type": "code",
   "execution_count": 13,
   "id": "7bd0db32",
   "metadata": {},
   "outputs": [
    {
     "data": {
      "text/html": [
       "<div>\n",
       "<style scoped>\n",
       "    .dataframe tbody tr th:only-of-type {\n",
       "        vertical-align: middle;\n",
       "    }\n",
       "\n",
       "    .dataframe tbody tr th {\n",
       "        vertical-align: top;\n",
       "    }\n",
       "\n",
       "    .dataframe thead th {\n",
       "        text-align: right;\n",
       "    }\n",
       "</style>\n",
       "<table border=\"1\" class=\"dataframe\">\n",
       "  <thead>\n",
       "    <tr style=\"text-align: right;\">\n",
       "      <th></th>\n",
       "      <th>InvoiceNo</th>\n",
       "      <th>StockCode</th>\n",
       "      <th>Description</th>\n",
       "      <th>Quantity</th>\n",
       "      <th>InvoiceDate</th>\n",
       "      <th>UnitPrice</th>\n",
       "      <th>CustomerID</th>\n",
       "      <th>Country</th>\n",
       "      <th>year</th>\n",
       "      <th>month</th>\n",
       "      <th>total_price</th>\n",
       "    </tr>\n",
       "  </thead>\n",
       "  <tbody>\n",
       "    <tr>\n",
       "      <th>0</th>\n",
       "      <td>536365</td>\n",
       "      <td>85123A</td>\n",
       "      <td>WHITE HANGING HEART T-LIGHT HOLDER</td>\n",
       "      <td>6</td>\n",
       "      <td>2010-12-01 08:26:00</td>\n",
       "      <td>2.55</td>\n",
       "      <td>17850.0</td>\n",
       "      <td>United Kingdom</td>\n",
       "      <td>2010</td>\n",
       "      <td>12</td>\n",
       "      <td>15.30</td>\n",
       "    </tr>\n",
       "    <tr>\n",
       "      <th>1</th>\n",
       "      <td>536365</td>\n",
       "      <td>71053</td>\n",
       "      <td>WHITE METAL LANTERN</td>\n",
       "      <td>6</td>\n",
       "      <td>2010-12-01 08:26:00</td>\n",
       "      <td>3.39</td>\n",
       "      <td>17850.0</td>\n",
       "      <td>United Kingdom</td>\n",
       "      <td>2010</td>\n",
       "      <td>12</td>\n",
       "      <td>20.34</td>\n",
       "    </tr>\n",
       "    <tr>\n",
       "      <th>2</th>\n",
       "      <td>536365</td>\n",
       "      <td>84406B</td>\n",
       "      <td>CREAM CUPID HEARTS COAT HANGER</td>\n",
       "      <td>8</td>\n",
       "      <td>2010-12-01 08:26:00</td>\n",
       "      <td>2.75</td>\n",
       "      <td>17850.0</td>\n",
       "      <td>United Kingdom</td>\n",
       "      <td>2010</td>\n",
       "      <td>12</td>\n",
       "      <td>22.00</td>\n",
       "    </tr>\n",
       "    <tr>\n",
       "      <th>3</th>\n",
       "      <td>536365</td>\n",
       "      <td>84029G</td>\n",
       "      <td>KNITTED UNION FLAG HOT WATER BOTTLE</td>\n",
       "      <td>6</td>\n",
       "      <td>2010-12-01 08:26:00</td>\n",
       "      <td>3.39</td>\n",
       "      <td>17850.0</td>\n",
       "      <td>United Kingdom</td>\n",
       "      <td>2010</td>\n",
       "      <td>12</td>\n",
       "      <td>20.34</td>\n",
       "    </tr>\n",
       "    <tr>\n",
       "      <th>4</th>\n",
       "      <td>536365</td>\n",
       "      <td>84029E</td>\n",
       "      <td>RED WOOLLY HOTTIE WHITE HEART.</td>\n",
       "      <td>6</td>\n",
       "      <td>2010-12-01 08:26:00</td>\n",
       "      <td>3.39</td>\n",
       "      <td>17850.0</td>\n",
       "      <td>United Kingdom</td>\n",
       "      <td>2010</td>\n",
       "      <td>12</td>\n",
       "      <td>20.34</td>\n",
       "    </tr>\n",
       "  </tbody>\n",
       "</table>\n",
       "</div>"
      ],
      "text/plain": [
       "  InvoiceNo StockCode                          Description  Quantity  \\\n",
       "0    536365    85123A   WHITE HANGING HEART T-LIGHT HOLDER         6   \n",
       "1    536365     71053                  WHITE METAL LANTERN         6   \n",
       "2    536365    84406B       CREAM CUPID HEARTS COAT HANGER         8   \n",
       "3    536365    84029G  KNITTED UNION FLAG HOT WATER BOTTLE         6   \n",
       "4    536365    84029E       RED WOOLLY HOTTIE WHITE HEART.         6   \n",
       "\n",
       "          InvoiceDate  UnitPrice  CustomerID         Country  year  month  \\\n",
       "0 2010-12-01 08:26:00       2.55     17850.0  United Kingdom  2010     12   \n",
       "1 2010-12-01 08:26:00       3.39     17850.0  United Kingdom  2010     12   \n",
       "2 2010-12-01 08:26:00       2.75     17850.0  United Kingdom  2010     12   \n",
       "3 2010-12-01 08:26:00       3.39     17850.0  United Kingdom  2010     12   \n",
       "4 2010-12-01 08:26:00       3.39     17850.0  United Kingdom  2010     12   \n",
       "\n",
       "   total_price  \n",
       "0        15.30  \n",
       "1        20.34  \n",
       "2        22.00  \n",
       "3        20.34  \n",
       "4        20.34  "
      ]
     },
     "execution_count": 13,
     "metadata": {},
     "output_type": "execute_result"
    }
   ],
   "source": [
    "retail_df['total_price']=retail_df['UnitPrice']*retail_df['Quantity']\n",
    "retail_df.head()"
   ]
  },
  {
   "cell_type": "markdown",
   "id": "8480eaff",
   "metadata": {},
   "source": [
    "##### 1.(c) How many one-time buyers  (purchases only once) are there? And how are they distributed by country??​"
   ]
  },
  {
   "cell_type": "code",
   "execution_count": 34,
   "id": "4f7261d2",
   "metadata": {},
   "outputs": [
    {
     "name": "stdout",
     "output_type": "stream",
     "text": [
      "Number of one time buyers are : \t1313\n",
      "Distribution of one time buyer (country-wise) are as follows\n",
      "Switzerland  :\t 4\n",
      "Italy  :\t 8\n",
      "France  :\t 25\n",
      "Germany  :\t 21\n",
      "Sweden  :\t 4\n",
      "Belgium  :\t 6\n",
      "Canada  :\t 3\n",
      "Spain  :\t 9\n",
      "Japan  :\t 3\n",
      "Portugal  :\t 4\n",
      "Poland  :\t 2\n",
      "Finland  :\t 5\n",
      "Israel  :\t 2\n",
      "Denmark  :\t 1\n",
      "United Kingdom  :\t 1188\n",
      "Bahrain  :\t 2\n",
      "Lebanon  :\t 1\n",
      "RSA  :\t 1\n",
      "USA  :\t 1\n",
      "Netherlands  :\t 3\n",
      "United Arab Emirates  :\t 1\n",
      "Channel Islands  :\t 3\n",
      "Austria  :\t 4\n",
      "Malta  :\t 1\n",
      "Cyprus  :\t 3\n",
      "Brazil  :\t 1\n",
      "Norway  :\t 4\n",
      "Greece  :\t 3\n"
     ]
    }
   ],
   "source": [
    "srr = retail_df.groupby('CustomerID')['InvoiceNo'].unique()\n",
    "count=0\n",
    "onet_cid = list()\n",
    "for cid in srr.index:\n",
    "    if (len(srr.loc[cid])==1):\n",
    "        onet_cid.append(cid)\n",
    "        count+=1\n",
    "print(f\"Number of one time buyers are : \\t{count}\")\n",
    "dt=dict()\n",
    "tempdf = retail_df[['CustomerID','Country']].set_index('CustomerID')\n",
    "for cidd in onet_cid:\n",
    "    dt[cidd] = tempdf.loc[cidd].iloc[0]\n",
    "    \n",
    "dts = pd.Series(dt)\n",
    "dtt = list()\n",
    "for x in dts.index:\n",
    "    if isinstance(dts[x],str):\n",
    "        dtt.append(dts[x])\n",
    "    else:\n",
    "        dtt.append(dts[x]['Country'])\n",
    "ltt=list(set(dtt))\n",
    "print(\"Distribution of one time buyer (country-wise) are as follows\")\n",
    "for x in ltt:\n",
    "    print(x,\" :\\t\",dtt.count(x))"
   ]
  },
  {
   "cell_type": "markdown",
   "id": "aa58cc39",
   "metadata": {},
   "source": [
    "##### 2.(a) What is the Average revenue per quarter for the year 2010?  Plot quarterly revenues for 2010 and 2011​"
   ]
  },
  {
   "cell_type": "code",
   "execution_count": 15,
   "id": "29635a65",
   "metadata": {},
   "outputs": [
    {
     "data": {
      "text/plain": [
       "187239.25499999998"
      ]
     },
     "execution_count": 15,
     "metadata": {},
     "output_type": "execute_result"
    }
   ],
   "source": [
    "#average quaterly revenue in the year 2010\n",
    "(retail_df[retail_df['year']==2010]['total_price'].sum())/4"
   ]
  },
  {
   "cell_type": "code",
   "execution_count": 16,
   "id": "8500f148",
   "metadata": {},
   "outputs": [
    {
     "data": {
      "text/plain": [
       "<AxesSubplot:title={'center':'Quaterly Earning for the year 2010 (in millions)'}>"
      ]
     },
     "execution_count": 16,
     "metadata": {},
     "output_type": "execute_result"
    },
    {
     "data": {
      "image/png": "[encoded data removed]",
      "text/plain": [
       "<Figure size 432x288 with 1 Axes>"
      ]
     },
     "metadata": {
      "needs_background": "light"
     },
     "output_type": "display_data"
    }
   ],
   "source": [
    "#quaterly revenue for the year : 2010\n",
    "df_qt_2010 = dict()\n",
    "df_qt_2010['q1']=retail_df[(retail_df['year']==2010) & (retail_df['month']<=3)]['total_price'].sum()/10**6\n",
    "df_qt_2010['q2']=retail_df[(retail_df['year']==2010) & (retail_df['month']>3) & (retail_df['month']<=6)]['total_price'].sum()/10**6\n",
    "df_qt_2010['q3']=retail_df[(retail_df['year']==2010) & (retail_df['month']>6) & (retail_df['month']<=9)]['total_price'].sum()/10**6\n",
    "df_qt_2010['q4']=retail_df[(retail_df['year']==2010) & (retail_df['month']>9) & (retail_df['month']<=12)]['total_price'].sum()/10**6\n",
    "df_qt_2010 = pd.Series(data=df_qt_2010)\n",
    "plt.title('Quaterly Earning for the year 2010 (in millions)')\n",
    "sns.barplot(x=df_qt_2010.index,y=df_qt_2010.values)"
   ]
  },
  {
   "cell_type": "code",
   "execution_count": 17,
   "id": "4355f4d4",
   "metadata": {},
   "outputs": [
    {
     "data": {
      "text/plain": [
       "<AxesSubplot:title={'center':'Quaterly Earning for the year 2011 (in millions)'}>"
      ]
     },
     "execution_count": 17,
     "metadata": {},
     "output_type": "execute_result"
    },
    {
     "data": {
      "image/png": "[encoded data removed]",
      "text/plain": [
       "<Figure size 432x288 with 1 Axes>"
      ]
     },
     "metadata": {
      "needs_background": "light"
     },
     "output_type": "display_data"
    }
   ],
   "source": [
    "#qualterly revenue for the year : 2011\n",
    "df_qt_2011 = dict()\n",
    "df_qt_2011['q1']=retail_df[(retail_df['year']==2011) & (retail_df['month']<=3)]['total_price'].sum()/10**6\n",
    "df_qt_2011['q2']=retail_df[(retail_df['year']==2011) & (retail_df['month']>3) & (retail_df['month']<=6)]['total_price'].sum()/10**6\n",
    "df_qt_2011['q3']=retail_df[(retail_df['year']==2011) & (retail_df['month']>6) & (retail_df['month']<=9)]['total_price'].sum()/10**6\n",
    "df_qt_2011['q4']=retail_df[(retail_df['year']==2011) & (retail_df['month']>9) & (retail_df['month']<=12)]['total_price'].sum()/10**6\n",
    "df_qt_2011 = pd.Series(data=df_qt_2011)\n",
    "plt.title('Quaterly Earning for the year 2011 (in millions)')\n",
    "sns.barplot(x=df_qt_2011.index,y=df_qt_2011.values)"
   ]
  },
  {
   "cell_type": "markdown",
   "id": "425e91ba",
   "metadata": {},
   "source": [
    "#### 2.(b)What are highest sale seasons (months/weeks) in UK?"
   ]
  },
  {
   "cell_type": "code",
   "execution_count": 36,
   "id": "69bac65e",
   "metadata": {},
   "outputs": [
    {
     "name": "stdout",
     "output_type": "stream",
     "text": [
      "       total_price\n",
      "month             \n",
      "1       434308.300\n",
      "2       408247.910\n",
      "3       559707.390\n",
      "4       442254.041\n",
      "5       596459.860\n",
      "6       554478.350\n",
      "7       565479.841\n",
      "8       539130.500\n",
      "9       862018.152\n",
      "10      877438.190\n",
      "11     1282805.780\n",
      "12     1065478.050\n",
      "Month in which highest revenue was generated in UK is : \t11\n"
     ]
    }
   ],
   "source": [
    "#month in which most revenue is generated\n",
    "df_uk = retail_df[retail_df['Country']=='United Kingdom']\n",
    "by_month=df_uk.groupby('month').sum()\n",
    "print(by_month[['total_price']])\n",
    "max_rev_mon = by_month['total_price'].idxmax()\n",
    "print(f\"Month in which highest revenue was generated in UK is : \\t{max_rev_mon}\")"
   ]
  },
  {
   "cell_type": "code",
   "execution_count": 19,
   "id": "e884e546",
   "metadata": {},
   "outputs": [
    {
     "data": {
      "text/html": [
       "<div>\n",
       "<style scoped>\n",
       "    .dataframe tbody tr th:only-of-type {\n",
       "        vertical-align: middle;\n",
       "    }\n",
       "\n",
       "    .dataframe tbody tr th {\n",
       "        vertical-align: top;\n",
       "    }\n",
       "\n",
       "    .dataframe thead th {\n",
       "        text-align: right;\n",
       "    }\n",
       "</style>\n",
       "<table border=\"1\" class=\"dataframe\">\n",
       "  <thead>\n",
       "    <tr style=\"text-align: right;\">\n",
       "      <th></th>\n",
       "      <th>InvoiceNo</th>\n",
       "      <th>StockCode</th>\n",
       "      <th>Description</th>\n",
       "      <th>Quantity</th>\n",
       "      <th>InvoiceDate</th>\n",
       "      <th>UnitPrice</th>\n",
       "      <th>CustomerID</th>\n",
       "      <th>Country</th>\n",
       "      <th>year</th>\n",
       "      <th>month</th>\n",
       "      <th>total_price</th>\n",
       "      <th>week</th>\n",
       "    </tr>\n",
       "  </thead>\n",
       "  <tbody>\n",
       "    <tr>\n",
       "      <th>0</th>\n",
       "      <td>536365</td>\n",
       "      <td>85123A</td>\n",
       "      <td>WHITE HANGING HEART T-LIGHT HOLDER</td>\n",
       "      <td>6</td>\n",
       "      <td>2010-12-01 08:26:00</td>\n",
       "      <td>2.55</td>\n",
       "      <td>17850.0</td>\n",
       "      <td>United Kingdom</td>\n",
       "      <td>2010</td>\n",
       "      <td>12</td>\n",
       "      <td>15.30</td>\n",
       "      <td>48</td>\n",
       "    </tr>\n",
       "    <tr>\n",
       "      <th>1</th>\n",
       "      <td>536365</td>\n",
       "      <td>71053</td>\n",
       "      <td>WHITE METAL LANTERN</td>\n",
       "      <td>6</td>\n",
       "      <td>2010-12-01 08:26:00</td>\n",
       "      <td>3.39</td>\n",
       "      <td>17850.0</td>\n",
       "      <td>United Kingdom</td>\n",
       "      <td>2010</td>\n",
       "      <td>12</td>\n",
       "      <td>20.34</td>\n",
       "      <td>48</td>\n",
       "    </tr>\n",
       "    <tr>\n",
       "      <th>2</th>\n",
       "      <td>536365</td>\n",
       "      <td>84406B</td>\n",
       "      <td>CREAM CUPID HEARTS COAT HANGER</td>\n",
       "      <td>8</td>\n",
       "      <td>2010-12-01 08:26:00</td>\n",
       "      <td>2.75</td>\n",
       "      <td>17850.0</td>\n",
       "      <td>United Kingdom</td>\n",
       "      <td>2010</td>\n",
       "      <td>12</td>\n",
       "      <td>22.00</td>\n",
       "      <td>48</td>\n",
       "    </tr>\n",
       "    <tr>\n",
       "      <th>3</th>\n",
       "      <td>536365</td>\n",
       "      <td>84029G</td>\n",
       "      <td>KNITTED UNION FLAG HOT WATER BOTTLE</td>\n",
       "      <td>6</td>\n",
       "      <td>2010-12-01 08:26:00</td>\n",
       "      <td>3.39</td>\n",
       "      <td>17850.0</td>\n",
       "      <td>United Kingdom</td>\n",
       "      <td>2010</td>\n",
       "      <td>12</td>\n",
       "      <td>20.34</td>\n",
       "      <td>48</td>\n",
       "    </tr>\n",
       "    <tr>\n",
       "      <th>4</th>\n",
       "      <td>536365</td>\n",
       "      <td>84029E</td>\n",
       "      <td>RED WOOLLY HOTTIE WHITE HEART.</td>\n",
       "      <td>6</td>\n",
       "      <td>2010-12-01 08:26:00</td>\n",
       "      <td>3.39</td>\n",
       "      <td>17850.0</td>\n",
       "      <td>United Kingdom</td>\n",
       "      <td>2010</td>\n",
       "      <td>12</td>\n",
       "      <td>20.34</td>\n",
       "      <td>48</td>\n",
       "    </tr>\n",
       "  </tbody>\n",
       "</table>\n",
       "</div>"
      ],
      "text/plain": [
       "  InvoiceNo StockCode                          Description  Quantity  \\\n",
       "0    536365    85123A   WHITE HANGING HEART T-LIGHT HOLDER         6   \n",
       "1    536365     71053                  WHITE METAL LANTERN         6   \n",
       "2    536365    84406B       CREAM CUPID HEARTS COAT HANGER         8   \n",
       "3    536365    84029G  KNITTED UNION FLAG HOT WATER BOTTLE         6   \n",
       "4    536365    84029E       RED WOOLLY HOTTIE WHITE HEART.         6   \n",
       "\n",
       "          InvoiceDate  UnitPrice  CustomerID         Country  year  month  \\\n",
       "0 2010-12-01 08:26:00       2.55     17850.0  United Kingdom  2010     12   \n",
       "1 2010-12-01 08:26:00       3.39     17850.0  United Kingdom  2010     12   \n",
       "2 2010-12-01 08:26:00       2.75     17850.0  United Kingdom  2010     12   \n",
       "3 2010-12-01 08:26:00       3.39     17850.0  United Kingdom  2010     12   \n",
       "4 2010-12-01 08:26:00       3.39     17850.0  United Kingdom  2010     12   \n",
       "\n",
       "   total_price  week  \n",
       "0        15.30    48  \n",
       "1        20.34    48  \n",
       "2        22.00    48  \n",
       "3        20.34    48  \n",
       "4        20.34    48  "
      ]
     },
     "execution_count": 19,
     "metadata": {},
     "output_type": "execute_result"
    }
   ],
   "source": [
    "retail_df['week'] = retail_df['InvoiceDate'].dt.isocalendar().week\n",
    "retail_df.head()"
   ]
  },
  {
   "cell_type": "code",
   "execution_count": 38,
   "id": "092dcdff",
   "metadata": {},
   "outputs": [
    {
     "name": "stdout",
     "output_type": "stream",
     "text": [
      "      total_price\n",
      "week             \n",
      "1        93720.93\n",
      "2       190994.96\n",
      "3       133782.91\n",
      "4       119136.81\n",
      "5       123642.18\n",
      ".....\n",
      "      total_price\n",
      "week             \n",
      "47      308185.02\n",
      "48      501722.24\n",
      "49      570892.25\n",
      "50      207052.17\n",
      "51       89770.57\n",
      "Week in which highest revenue was generated UK is : \t49\n"
     ]
    }
   ],
   "source": [
    "##week of the year in which most revenue is generated\n",
    "by_week=df_uk.groupby('week').sum()\n",
    "print(by_week[['total_price']].iloc[:5])\n",
    "print(\".....\")\n",
    "print(by_week[['total_price']].iloc[-5:])\n",
    "max_rev_week = by_week['total_price'].idxmax()\n",
    "print(f\"Week in which highest revenue was generated UK is : \\t{max_rev_week}\")"
   ]
  },
  {
   "cell_type": "markdown",
   "id": "4f4ffeac",
   "metadata": {},
   "source": [
    "#### 2.(c) What are top 5 and least 5 countries by Revenue/ sales quantity? ​"
   ]
  },
  {
   "cell_type": "code",
   "execution_count": 21,
   "id": "232b8027",
   "metadata": {},
   "outputs": [
    {
     "name": "stdout",
     "output_type": "stream",
     "text": [
      "Bottom 5:\t Country\n",
      "Saudi Arabia       131.17\n",
      "Bahrain            548.40\n",
      "Czech Republic     707.72\n",
      "RSA               1002.31\n",
      "Brazil            1143.60\n",
      "Name: total_price, dtype: float64\n",
      "\n",
      "Top 5:(revenue in million) \t Country\n",
      "France            0.197404\n",
      "Germany           0.221698\n",
      "EIRE              0.263277\n",
      "Netherlands       0.284662\n",
      "United Kingdom    8.187806\n",
      "Name: total_price, dtype: float64\n"
     ]
    }
   ],
   "source": [
    "#top 5 and bottom 5 revenue generating countries\n",
    "by_country = retail_df.groupby('Country').sum()\n",
    "print(\"Bottom 5:\\t\", by_country['total_price'].sort_values()[:5])\n",
    "print(\"\\nTop 5:(revenue in million) \\t\", by_country['total_price'].sort_values()[-5:]/10**6)"
   ]
  },
  {
   "cell_type": "markdown",
   "id": "7c2ba94b",
   "metadata": {},
   "source": [
    "#### 3.(a) What are top 10 products that were sold and what is a their revenue proportion?​"
   ]
  },
  {
   "cell_type": "code",
   "execution_count": 22,
   "id": "53361567",
   "metadata": {},
   "outputs": [
    {
     "data": {
      "text/plain": [
       "StockCode\n",
       "DOT       206245.48\n",
       "22423     164762.19\n",
       "47566      98302.98\n",
       "85123A     97894.50\n",
       "85099B     92356.03\n",
       "23084      66756.59\n",
       "POST       66230.64\n",
       "22086      63791.94\n",
       "84879      58959.73\n",
       "79321      53768.06\n",
       "Name: total_price, dtype: float64"
      ]
     },
     "execution_count": 22,
     "metadata": {},
     "output_type": "execute_result"
    }
   ],
   "source": [
    "#products with maximum revenue\n",
    "by_stock_code = retail_df.groupby('StockCode')\n",
    "by_stock_code = by_stock_code.sum()\n",
    "by_stock_code['total_price'].sort_values(ascending=False)[:10]"
   ]
  },
  {
   "cell_type": "code",
   "execution_count": 23,
   "id": "507492be",
   "metadata": {},
   "outputs": [
    {
     "data": {
      "text/plain": [
       "StockCode\n",
       "DOT       2.115827\n",
       "22423     1.690259\n",
       "47566     1.008469\n",
       "85123A    1.004278\n",
       "85099B    0.947460\n",
       "23084     0.684841\n",
       "POST      0.679446\n",
       "22086     0.654427\n",
       "84879     0.604855\n",
       "79321     0.551595\n",
       "Name: total_price, dtype: float64"
      ]
     },
     "execution_count": 23,
     "metadata": {},
     "output_type": "execute_result"
    }
   ],
   "source": [
    "#percentage of revenue for top 10 products\n",
    "by_stock_code['total_price'].sort_values(ascending=False)[:10]/(sum(retail_df['total_price']))*100"
   ]
  },
  {
   "cell_type": "markdown",
   "id": "81793207",
   "metadata": {},
   "source": [
    "#### 3.(b) What is the best time to sell top 3 products (from the above list) in UK?•"
   ]
  },
  {
   "cell_type": "code",
   "execution_count": 24,
   "id": "96511b98",
   "metadata": {},
   "outputs": [
    {
     "name": "stdout",
     "output_type": "stream",
     "text": [
      "Best time to sell DOT in United Kingdom is : December\n",
      "Best time to sell 22423 in United Kingdom is : December\n",
      "Best time to sell 47566 in United Kingdom is : May\n"
     ]
    }
   ],
   "source": [
    "#products with maximum revenue\n",
    "by_stock_code_3 = retail_df.groupby('StockCode')\n",
    "by_stock_code_3_idx = by_stock_code_3.sum().sort_values(by=['total_price'],ascending=False)[:3].index\n",
    "df_uk = retail_df[retail_df['Country']=='United Kingdom']\n",
    "df_uk.head()\n",
    "for stock_code in by_stock_code_3_idx:\n",
    "    #print(stock_code)\n",
    "    monthNo=df_uk[df_uk['StockCode']==stock_code].groupby('month').sum()['total_price'].idxmax()\n",
    "    month = datetime.date(1900, monthNo, 1).strftime('%B')\n",
    "    print(f\"Best time to sell {stock_code} in United Kingdom is : {month}\")\n",
    "    "
   ]
  },
  {
   "cell_type": "markdown",
   "id": "d2135a01",
   "metadata": {},
   "source": [
    "#### 3.(c) Plot top most returned products across countries? ​"
   ]
  },
  {
   "cell_type": "code",
   "execution_count": 25,
   "id": "176fc25b",
   "metadata": {},
   "outputs": [
    {
     "data": {
      "text/html": [
       "<div>\n",
       "<style scoped>\n",
       "    .dataframe tbody tr th:only-of-type {\n",
       "        vertical-align: middle;\n",
       "    }\n",
       "\n",
       "    .dataframe tbody tr th {\n",
       "        vertical-align: top;\n",
       "    }\n",
       "\n",
       "    .dataframe thead th {\n",
       "        text-align: right;\n",
       "    }\n",
       "</style>\n",
       "<table border=\"1\" class=\"dataframe\">\n",
       "  <thead>\n",
       "    <tr style=\"text-align: right;\">\n",
       "      <th></th>\n",
       "      <th>InvoiceNo</th>\n",
       "      <th>StockCode</th>\n",
       "      <th>Description</th>\n",
       "      <th>Quantity</th>\n",
       "      <th>InvoiceDate</th>\n",
       "      <th>UnitPrice</th>\n",
       "      <th>CustomerID</th>\n",
       "      <th>Country</th>\n",
       "      <th>year</th>\n",
       "      <th>month</th>\n",
       "      <th>total_price</th>\n",
       "      <th>week</th>\n",
       "    </tr>\n",
       "  </thead>\n",
       "  <tbody>\n",
       "    <tr>\n",
       "      <th>0</th>\n",
       "      <td>536365</td>\n",
       "      <td>85123A</td>\n",
       "      <td>WHITE HANGING HEART T-LIGHT HOLDER</td>\n",
       "      <td>6</td>\n",
       "      <td>2010-12-01 08:26:00</td>\n",
       "      <td>2.55</td>\n",
       "      <td>17850.0</td>\n",
       "      <td>United Kingdom</td>\n",
       "      <td>2010</td>\n",
       "      <td>12</td>\n",
       "      <td>15.30</td>\n",
       "      <td>48</td>\n",
       "    </tr>\n",
       "    <tr>\n",
       "      <th>1</th>\n",
       "      <td>536365</td>\n",
       "      <td>71053</td>\n",
       "      <td>WHITE METAL LANTERN</td>\n",
       "      <td>6</td>\n",
       "      <td>2010-12-01 08:26:00</td>\n",
       "      <td>3.39</td>\n",
       "      <td>17850.0</td>\n",
       "      <td>United Kingdom</td>\n",
       "      <td>2010</td>\n",
       "      <td>12</td>\n",
       "      <td>20.34</td>\n",
       "      <td>48</td>\n",
       "    </tr>\n",
       "    <tr>\n",
       "      <th>2</th>\n",
       "      <td>536365</td>\n",
       "      <td>84406B</td>\n",
       "      <td>CREAM CUPID HEARTS COAT HANGER</td>\n",
       "      <td>8</td>\n",
       "      <td>2010-12-01 08:26:00</td>\n",
       "      <td>2.75</td>\n",
       "      <td>17850.0</td>\n",
       "      <td>United Kingdom</td>\n",
       "      <td>2010</td>\n",
       "      <td>12</td>\n",
       "      <td>22.00</td>\n",
       "      <td>48</td>\n",
       "    </tr>\n",
       "    <tr>\n",
       "      <th>3</th>\n",
       "      <td>536365</td>\n",
       "      <td>84029G</td>\n",
       "      <td>KNITTED UNION FLAG HOT WATER BOTTLE</td>\n",
       "      <td>6</td>\n",
       "      <td>2010-12-01 08:26:00</td>\n",
       "      <td>3.39</td>\n",
       "      <td>17850.0</td>\n",
       "      <td>United Kingdom</td>\n",
       "      <td>2010</td>\n",
       "      <td>12</td>\n",
       "      <td>20.34</td>\n",
       "      <td>48</td>\n",
       "    </tr>\n",
       "    <tr>\n",
       "      <th>4</th>\n",
       "      <td>536365</td>\n",
       "      <td>84029E</td>\n",
       "      <td>RED WOOLLY HOTTIE WHITE HEART.</td>\n",
       "      <td>6</td>\n",
       "      <td>2010-12-01 08:26:00</td>\n",
       "      <td>3.39</td>\n",
       "      <td>17850.0</td>\n",
       "      <td>United Kingdom</td>\n",
       "      <td>2010</td>\n",
       "      <td>12</td>\n",
       "      <td>20.34</td>\n",
       "      <td>48</td>\n",
       "    </tr>\n",
       "  </tbody>\n",
       "</table>\n",
       "</div>"
      ],
      "text/plain": [
       "  InvoiceNo StockCode                          Description  Quantity  \\\n",
       "0    536365    85123A   WHITE HANGING HEART T-LIGHT HOLDER         6   \n",
       "1    536365     71053                  WHITE METAL LANTERN         6   \n",
       "2    536365    84406B       CREAM CUPID HEARTS COAT HANGER         8   \n",
       "3    536365    84029G  KNITTED UNION FLAG HOT WATER BOTTLE         6   \n",
       "4    536365    84029E       RED WOOLLY HOTTIE WHITE HEART.         6   \n",
       "\n",
       "          InvoiceDate  UnitPrice  CustomerID         Country  year  month  \\\n",
       "0 2010-12-01 08:26:00       2.55     17850.0  United Kingdom  2010     12   \n",
       "1 2010-12-01 08:26:00       3.39     17850.0  United Kingdom  2010     12   \n",
       "2 2010-12-01 08:26:00       2.75     17850.0  United Kingdom  2010     12   \n",
       "3 2010-12-01 08:26:00       3.39     17850.0  United Kingdom  2010     12   \n",
       "4 2010-12-01 08:26:00       3.39     17850.0  United Kingdom  2010     12   \n",
       "\n",
       "   total_price  week  \n",
       "0        15.30    48  \n",
       "1        20.34    48  \n",
       "2        22.00    48  \n",
       "3        20.34    48  \n",
       "4        20.34    48  "
      ]
     },
     "execution_count": 25,
     "metadata": {},
     "output_type": "execute_result"
    }
   ],
   "source": [
    "retail_df.head()"
   ]
  },
  {
   "cell_type": "code",
   "execution_count": 41,
   "id": "fa55fd33",
   "metadata": {},
   "outputs": [
    {
     "name": "stdout",
     "output_type": "stream",
     "text": [
      "United Kingdom        AMAZONFEE\n",
      "Germany                       M\n",
      "EIRE                          M\n",
      "Italy                     22120\n",
      "France                        M\n",
      "Australia                 22990\n",
      "Sweden                   85232B\n",
      "Portugal                      M\n",
      "Austria                   22357\n",
      "Israel                    22474\n",
      "Belgium                    POST\n",
      "Bahrain                  72802B\n",
      "Spain                         M\n",
      "Japan                     22328\n",
      "Channel Islands               M\n",
      "Netherlands               22956\n",
      "Switzerland               23199\n",
      "Cyprus                        M\n",
      "Norway                        M\n",
      "Saudi Arabia              22361\n",
      "Hong Kong                     M\n",
      "Poland                    22796\n",
      "Finland                    POST\n",
      "Czech Republic           84459A\n",
      "Singapore                     M\n",
      "European Community        22960\n",
      "Malta                      POST\n",
      "Greece                     POST\n",
      "Denmark                   22846\n",
      "USA                       23158\n",
      "dtype: object\n"
     ]
    },
    {
     "data": {
      "image/png": "[encoded data removed]",
      "text/plain": [
       "<Figure size 2500x1000 with 1 Axes>"
      ]
     },
     "metadata": {
      "needs_background": "light"
     },
     "output_type": "display_data"
    }
   ],
   "source": [
    "df_return = retail_df[retail_df['total_price']<0]\n",
    "df_return_grp = df_return.groupby(['Country','StockCode'])['total_price'].sum()\n",
    "country_list = retail_df[retail_df['total_price']<0]['Country'].unique()\n",
    "prod_rt_cntry = dict()\n",
    "for countries in country_list:\n",
    "    prod_rt_cntry[countries] = df_return_grp.loc[countries].idxmin()\n",
    "prod_rt_cntry = pd.Series(prod_rt_cntry)\n",
    "print(prod_rt_cntry)\n",
    "\n",
    "plt.figure(figsize=(25,10),dpi=100)\n",
    "plt.xticks(rotation=45)\n",
    "plt.plot(list(prod_rt_cntry.index),prod_rt_cntry.tolist(),'ro')\n",
    "plt.grid()\n",
    "plt.show()"
   ]
  },
  {
   "cell_type": "code",
   "execution_count": null,
   "id": "50b442bb",
   "metadata": {},
   "outputs": [],
   "source": [
    "\n"
   ]
  }
 ],
 "metadata": {
  "interpreter": {
   "hash": "b3ba2566441a7c06988d0923437866b63cedc61552a5af99d1f4fb67d367b25f"
  },
  "kernelspec": {
   "display_name": "Python 3",
   "language": "python",
   "name": "python3"
  },
  "language_info": {
   "codemirror_mode": {
    "name": "ipython",
    "version": 3
   },
   "file_extension": ".py",
   "mimetype": "text/x-python",
   "name": "python",
   "nbconvert_exporter": "python",
   "pygments_lexer": "ipython3",
   "version": "3.8.8"
  }
 },
 "nbformat": 4,
 "nbformat_minor": 5
}
